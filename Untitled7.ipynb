{
  "nbformat": 4,
  "nbformat_minor": 0,
  "metadata": {
    "colab": {
      "provenance": [],
      "authorship_tag": "ABX9TyNqnV3bEhcQ0rT0E60H4qIQ",
      "include_colab_link": true
    },
    "kernelspec": {
      "name": "python3",
      "display_name": "Python 3"
    },
    "language_info": {
      "name": "python"
    }
  },
  "cells": [
    {
      "cell_type": "markdown",
      "metadata": {
        "id": "view-in-github",
        "colab_type": "text"
      },
      "source": [
        "<a href=\"https://colab.research.google.com/github/amylynnn/profile/blob/master/Untitled7.ipynb\" target=\"_parent\"><img src=\"https://colab.research.google.com/assets/colab-badge.svg\" alt=\"Open In Colab\"/></a>"
      ]
    },
    {
      "cell_type": "code",
      "execution_count": 1,
      "metadata": {
        "colab": {
          "base_uri": "https://localhost:8080/"
        },
        "id": "yaUB2DC116ub",
        "outputId": "cc3f6adf-9581-4c96-9f98-0e29acae1dbf"
      },
      "outputs": [
        {
          "output_type": "stream",
          "name": "stdout",
          "text": [
            "Lenght of dictionary: 3\n",
            "Keys dict_keys(['name', 'age', 'city'])\n",
            "Values dict_values(['Alex', 30, 'sydney'])\n",
            "Items dict_items([('name', 'Alex'), ('age', 30), ('city', 'sydney')])\n"
          ]
        }
      ],
      "source": [
        "person = {\n",
        "    \"name\": \"Alex\",\n",
        "    \"age\": 30,\n",
        "    \"city\": \"sydney\"\n",
        "}\n",
        "print(\"Lenght of dictionary:\", len(person))\n",
        "print(\"Keys\", person.keys())\n",
        "print(\"Values\", person.values())\n",
        "print(\"Items\", person.items())"
      ]
    },
    {
      "cell_type": "code",
      "source": [
        "person = {\n",
        "    \"name\": \"Alex\",\n",
        "    \"age\": 30,\n",
        "    \"city\": \"sydney\"\n",
        "}\n",
        "print(\"Lenght of dictionary:\", len(person))\n",
        "print(\"Keys\", person.keys())\n",
        "print(\"Values\", person.values())\n",
        "print(\"Items\", person.items())\n",
        "\n",
        "print(\"Get name\", person.get(\"name\", \"Unknown\"))\n",
        "print(\"Get country' (not in dict):\", person.get(\"country\", \"Unknown\"))\n",
        "\n",
        "print(\"Pop 'city':\", person.pop(\"city\", \"Not found\"))\n",
        "print(\"Pop 'country' (not in dict):\", person.pop(\"country\", \"Not found\"))"
      ],
      "metadata": {
        "colab": {
          "base_uri": "https://localhost:8080/"
        },
        "id": "bAZ06R6S38Vk",
        "outputId": "38b6bd7a-0e70-42a1-cb8e-53ab45038080"
      },
      "execution_count": 2,
      "outputs": [
        {
          "output_type": "stream",
          "name": "stdout",
          "text": [
            "Lenght of dictionary: 3\n",
            "Keys dict_keys(['name', 'age', 'city'])\n",
            "Values dict_values(['Alex', 30, 'sydney'])\n",
            "Items dict_items([('name', 'Alex'), ('age', 30), ('city', 'sydney')])\n",
            "Get name Alex\n",
            "Get country' (not in dict): Unknown\n",
            "Pop 'city': sydney\n",
            "Pop 'country' (not in dict): Not found\n"
          ]
        }
      ]
    },
    {
      "cell_type": "code",
      "source": [
        "person = {\n",
        "    \"name\": \"Alex\",\n",
        "    \"age\": 30,\n",
        "    \"city\": \"sydney\"\n",
        "}\n",
        "print(\"Lenght of dictionary:\", len(person))\n",
        "print(\"Keys\", person.keys())\n",
        "print(\"Values\", person.values())\n",
        "print(\"Items\", person.items())\n",
        "\n",
        "print(\"Get name\", person.get(\"name\", \"Unknown\"))\n",
        "print(\"Get country' (not in dict):\", person.get(\"country\", \"Unknown\"))\n",
        "\n",
        "print(\"Pop 'city':\", person.pop(\"city\", \"Not found\"))\n",
        "print(\"Pop 'country' (not in dict):\", person.pop(\"country\", \"Not found\"))\n",
        "\n",
        "update_info = {\"country\": \"Australia\", \"age\": 31}\n",
        "person.update(update_info)\n",
        "print(\"Updated dictionary after update:\", person)"
      ],
      "metadata": {
        "colab": {
          "base_uri": "https://localhost:8080/"
        },
        "id": "VbYVXJw46txk",
        "outputId": "df324cff-343b-4e64-8024-ab82fdfa4c9d"
      },
      "execution_count": 3,
      "outputs": [
        {
          "output_type": "stream",
          "name": "stdout",
          "text": [
            "Lenght of dictionary: 3\n",
            "Keys dict_keys(['name', 'age', 'city'])\n",
            "Values dict_values(['Alex', 30, 'sydney'])\n",
            "Items dict_items([('name', 'Alex'), ('age', 30), ('city', 'sydney')])\n",
            "Get name Alex\n",
            "Get country' (not in dict): Unknown\n",
            "Pop 'city': sydney\n",
            "Pop 'country' (not in dict): Not found\n",
            "Updated dictionary after update: {'name': 'Alex', 'age': 31, 'country': 'Australia'}\n"
          ]
        }
      ]
    },
    {
      "cell_type": "code",
      "source": [
        "person = {\n",
        "    \"name\": \"Alex\",\n",
        "    \"age\": 30,\n",
        "    \"city\": \"sydney\"\n",
        "}\n",
        "print(\"Lenght of dictionary:\", len(person))\n",
        "print(\"Keys\", person.keys())\n",
        "print(\"Values\", person.values())\n",
        "print(\"Items\", person.items())\n",
        "\n",
        "print(\"Get name\", person.get(\"name\", \"Unknown\"))\n",
        "print(\"Get country' (not in dict):\", person.get(\"country\", \"Unknown\"))\n",
        "\n",
        "print(\"Pop 'city':\", person.pop(\"city\", \"Not found\"))\n",
        "print(\"Pop 'country' (not in dict):\", person.pop(\"country\", \"Not found\"))\n",
        "\n",
        "update_info = {\"country\": \"Australia\", \"age\": 31}\n",
        "person.update(update_info)\n",
        "print(\"Updated dictionary after update:\", person)\n",
        "\n",
        "print(\"Is 'name' in person?\", \"name\" in person)\n",
        "print(\"is 'salary' in person?\", \"salary\" in person)"
      ],
      "metadata": {
        "colab": {
          "base_uri": "https://localhost:8080/"
        },
        "id": "3ChYe17c74xL",
        "outputId": "12521e7e-37f5-4c39-d0b6-4acb9cd1ee20"
      },
      "execution_count": 4,
      "outputs": [
        {
          "output_type": "stream",
          "name": "stdout",
          "text": [
            "Lenght of dictionary: 3\n",
            "Keys dict_keys(['name', 'age', 'city'])\n",
            "Values dict_values(['Alex', 30, 'sydney'])\n",
            "Items dict_items([('name', 'Alex'), ('age', 30), ('city', 'sydney')])\n",
            "Get name Alex\n",
            "Get country' (not in dict): Unknown\n",
            "Pop 'city': sydney\n",
            "Pop 'country' (not in dict): Not found\n",
            "Updated dictionary after update: {'name': 'Alex', 'age': 31, 'country': 'Australia'}\n",
            "Is 'name' in person? True\n",
            "is 'salary' in person? False\n"
          ]
        }
      ]
    },
    {
      "cell_type": "code",
      "source": [
        "person = {\n",
        "    \"name\": \"Alex\",\n",
        "    \"age\": 30,\n",
        "    \"city\": \"sydney\"\n",
        "}\n",
        "print(\"Lenght of dictionary:\", len(person))\n",
        "print(\"Keys\", person.keys())\n",
        "print(\"Values\", person.values())\n",
        "print(\"Items\", person.items())\n",
        "\n",
        "print(\"Get name\", person.get(\"name\", \"Unknown\"))\n",
        "print(\"Get country' (not in dict):\", person.get(\"country\", \"Unknown\"))\n",
        "\n",
        "print(\"Pop 'city':\", person.pop(\"city\", \"Not found\"))\n",
        "print(\"Pop 'country' (not in dict):\", person.pop(\"country\", \"Not found\"))\n",
        "\n",
        "update_info = {\"country\": \"Australia\", \"age\": 31}\n",
        "person.update(update_info)\n",
        "print(\"Updated dictionary after update:\", person)\n",
        "\n",
        "print(\"Is 'name' in person?\", \"name\" in person)\n",
        "print(\"is 'salary' in person?\", \"salary\" in person)\n",
        "\n",
        "del person[\"country\"]\n",
        "print(\"After deleting 'country':\", person)"
      ],
      "metadata": {
        "colab": {
          "base_uri": "https://localhost:8080/"
        },
        "id": "gc4X1iNO8nMv",
        "outputId": "9da60c08-22c9-48d0-cfa5-9b186aabd9f7"
      },
      "execution_count": 6,
      "outputs": [
        {
          "output_type": "stream",
          "name": "stdout",
          "text": [
            "Lenght of dictionary: 3\n",
            "Keys dict_keys(['name', 'age', 'city'])\n",
            "Values dict_values(['Alex', 30, 'sydney'])\n",
            "Items dict_items([('name', 'Alex'), ('age', 30), ('city', 'sydney')])\n",
            "Get name Alex\n",
            "Get country' (not in dict): Unknown\n",
            "Pop 'city': sydney\n",
            "Pop 'country' (not in dict): Not found\n",
            "Updated dictionary after update: {'name': 'Alex', 'age': 31, 'country': 'Australia'}\n",
            "Is 'name' in person? True\n",
            "is 'salary' in person? False\n",
            "After deleting 'country': {'name': 'Alex', 'age': 31}\n"
          ]
        }
      ]
    },
    {
      "cell_type": "code",
      "source": [
        "person = {\n",
        "    \"name\": \"Alex\",\n",
        "    \"age\": 30,\n",
        "    \"city\": \"sydney\"\n",
        "}\n",
        "print(\"Lenght of dictionary:\", len(person))\n",
        "print(\"Keys\", person.keys())\n",
        "print(\"Values\", person.values())\n",
        "print(\"Items\", person.items())\n",
        "\n",
        "print(\"Get name\", person.get(\"name\", \"Unknown\"))\n",
        "print(\"Get country' (not in dict):\", person.get(\"country\", \"Unknown\"))\n",
        "\n",
        "print(\"Pop 'city':\", person.pop(\"city\", \"Not found\"))\n",
        "print(\"Pop 'country' (not in dict):\", person.pop(\"country\", \"Not found\"))\n",
        "\n",
        "update_info = {\"country\": \"Australia\", \"age\": 31}\n",
        "person.update(update_info)\n",
        "print(\"Updated dictionary after update:\", person)\n",
        "\n",
        "print(\"Is 'name' in person?\", \"name\" in person)\n",
        "print(\"is 'salary' in person?\", \"salary\" in person)\n",
        "\n",
        "del person[\"country\"]\n",
        "print(\"After deleting 'country':\", person)\n",
        "\n",
        "if \"salary\" in person:\n",
        "  del person[\"salary\"]\n",
        "else:\n",
        "    print(\"'salary' key not found, so not deleted.\")"
      ],
      "metadata": {
        "colab": {
          "base_uri": "https://localhost:8080/"
        },
        "id": "RZF4zgoc9jMC",
        "outputId": "de8ef76d-266c-4147-8da0-3306f4241bc4"
      },
      "execution_count": 8,
      "outputs": [
        {
          "output_type": "stream",
          "name": "stdout",
          "text": [
            "Lenght of dictionary: 3\n",
            "Keys dict_keys(['name', 'age', 'city'])\n",
            "Values dict_values(['Alex', 30, 'sydney'])\n",
            "Items dict_items([('name', 'Alex'), ('age', 30), ('city', 'sydney')])\n",
            "Get name Alex\n",
            "Get country' (not in dict): Unknown\n",
            "Pop 'city': sydney\n",
            "Pop 'country' (not in dict): Not found\n",
            "Updated dictionary after update: {'name': 'Alex', 'age': 31, 'country': 'Australia'}\n",
            "Is 'name' in person? True\n",
            "is 'salary' in person? False\n",
            "After deleting 'country': {'name': 'Alex', 'age': 31}\n",
            "'salary' key not found, so not deleted.\n"
          ]
        }
      ]
    },
    {
      "cell_type": "code",
      "source": [
        "squares = {x: x**2 for x in range(1, 6)}\n",
        "print(\"squares dictionary:\", squares)"
      ],
      "metadata": {
        "colab": {
          "base_uri": "https://localhost:8080/"
        },
        "id": "MRv-ceBQ-rFD",
        "outputId": "9e637c86-9cab-4a43-d269-4bf06762c9d2"
      },
      "execution_count": 10,
      "outputs": [
        {
          "output_type": "stream",
          "name": "stdout",
          "text": [
            "squares dictionary: {1: 1, 2: 4, 3: 9, 4: 16, 5: 25}\n"
          ]
        }
      ]
    },
    {
      "cell_type": "code",
      "source": [
        "people = {\n",
        "    \"person1\": {\n",
        "        \"name\": \"Alex\",\n",
        "        \"age\": 30,\n",
        "        \"city\": \"sydney\"\n",
        "    },\n",
        "    \"person2\": {\n",
        "        \"name\": \"Jordan\",\n",
        "        \"age\": 25,\n",
        "        \"city\": \"Melbourne\"\n",
        "    }\n",
        "}\n",
        "print(\"People dictionary:\", people)\n",
        "print(\"Name of person1:\", people[\"person1\"][\"name\"])\n",
        "people[\"person3\"] = {\"name\": \"Taylor\", \"age\": 27, \"city\": \"Brisbane\"}\n",
        "print(\"Updated people dictionary:\", people)\n",
        "\n",
        "for key, value in people.items():\n",
        "    print(f\"{key}: {value['name']}, Age = {value['age']}, City = {value['city']}\")"
      ],
      "metadata": {
        "colab": {
          "base_uri": "https://localhost:8080/"
        },
        "id": "etdFPLEf_QQd",
        "outputId": "086ee8a8-9b74-4d19-b05d-4e92221cdc12"
      },
      "execution_count": 12,
      "outputs": [
        {
          "output_type": "stream",
          "name": "stdout",
          "text": [
            "People dictionary: {'person1': {'name': 'Alex', 'age': 30, 'city': 'sydney'}, 'person2': {'name': 'Jordan', 'age': 25, 'city': 'Melbourne'}}\n",
            "Name of person1: Alex\n",
            "Updated people dictionary: {'person1': {'name': 'Alex', 'age': 30, 'city': 'sydney'}, 'person2': {'name': 'Jordan', 'age': 25, 'city': 'Melbourne'}, 'person3': {'name': 'Taylor', 'age': 27, 'city': 'Brisbane'}}\n",
            "person1: Alex, Age = 30, City = sydney\n",
            "person2: Jordan, Age = 25, City = Melbourne\n",
            "person3: Taylor, Age = 27, City = Brisbane\n"
          ]
        }
      ]
    },
    {
      "cell_type": "code",
      "source": [
        "people = {\n",
        "    \"person1\": {\n",
        "        \"name\": \"Alex\",\n",
        "        \"age\": 30,\n",
        "        \"city\": \"sydney\"\n",
        "    },\n",
        "    \"person2\": {\n",
        "        \"name\": \"Jordan\",\n",
        "        \"age\": 25,\n",
        "        \"city\": \"Melbourne\"\n",
        "    }\n",
        "}\n",
        "\n",
        "people[\"person3\"] = {\"name\": \"Taylor\", \"age\": 27, \"city\": \"Brisbane\"}\n",
        "\n",
        "people[\"person3\"][\"hobbies\"] = [\"reading\", \"travelling\"]\n",
        "\n",
        "print(people[\"person3\"])\n",
        "\n",
        "people[\"person1\"].update({\"email\": \"alex@example.com\", \"married\": False})\n",
        "print(people[\"person1\"])\n",
        "\n",
        "for person in people.values():\n",
        "  person[\"status\"] = \"active\"\n",
        "  print(\"people\")"
      ],
      "metadata": {
        "colab": {
          "base_uri": "https://localhost:8080/"
        },
        "id": "HcE2k3BiDaVU",
        "outputId": "9b750f8a-8c6e-4a4d-855c-be5044d92014"
      },
      "execution_count": 20,
      "outputs": [
        {
          "output_type": "stream",
          "name": "stdout",
          "text": [
            "{'name': 'Taylor', 'age': 27, 'city': 'Brisbane', 'hobbies': ['reading', 'travelling']}\n",
            "{'name': 'Alex', 'age': 30, 'city': 'sydney', 'email': 'alex@example.com', 'married': False}\n",
            "people\n",
            "people\n",
            "people\n"
          ]
        }
      ]
    }
  ]
}