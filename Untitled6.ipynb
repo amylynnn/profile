{
  "nbformat": 4,
  "nbformat_minor": 0,
  "metadata": {
    "colab": {
      "provenance": [],
      "authorship_tag": "ABX9TyNPvLsnN5GGmgbgm/2mVYJ6",
      "include_colab_link": true
    },
    "kernelspec": {
      "name": "python3",
      "display_name": "Python 3"
    },
    "language_info": {
      "name": "python"
    }
  },
  "cells": [
    {
      "cell_type": "markdown",
      "metadata": {
        "id": "view-in-github",
        "colab_type": "text"
      },
      "source": [
        "<a href=\"https://colab.research.google.com/github/amylynnn/profile/blob/master/Untitled6.ipynb\" target=\"_parent\"><img src=\"https://colab.research.google.com/assets/colab-badge.svg\" alt=\"Open In Colab\"/></a>"
      ]
    },
    {
      "cell_type": "code",
      "execution_count": 5,
      "metadata": {
        "colab": {
          "base_uri": "https://localhost:8080/"
        },
        "id": "2X1ey3V4nrnq",
        "outputId": "c5be4f15-ffae-47d2-f4aa-3c6dbffdfd81"
      },
      "outputs": [
        {
          "output_type": "stream",
          "name": "stdout",
          "text": [
            "Alex\n",
            "30\n",
            "Not found\n"
          ]
        }
      ],
      "source": [
        "\n",
        "person = {\n",
        "    \"name\": \"Alex\",\n",
        "    \"age\": 30,\n",
        "    \"city\": \"Sydney\"\n",
        "}\n",
        "\n",
        "print(person[\"name\"])\n",
        "print(person[\"age\"])\n",
        "\n",
        "print(person.get(\"occupation\", \"Not found\"))"
      ]
    },
    {
      "cell_type": "code",
      "source": [
        "person = {\n",
        "    \"name\": \"Alex\",\n",
        "    \"age\": 30,\n",
        "    \"city\": \"Sydney\"\n",
        "}\n",
        "\n",
        "person[\"occupation\"] = \"Software Engineer\"\n",
        "person[\"age\"] = 31\n",
        "\n",
        "print(person)"
      ],
      "metadata": {
        "colab": {
          "base_uri": "https://localhost:8080/"
        },
        "id": "KA5nOKvMpD4Y",
        "outputId": "abb6e77f-6cf8-49ed-cd23-37e31a9b9e23"
      },
      "execution_count": 6,
      "outputs": [
        {
          "output_type": "stream",
          "name": "stdout",
          "text": [
            "{'name': 'Alex', 'age': 31, 'city': 'Sydney', 'occupation': 'Software Engineer'}\n"
          ]
        }
      ]
    },
    {
      "cell_type": "code",
      "source": [
        "person = {\n",
        "    \"name\": \"Alex\",\n",
        "    \"age\": 30,\n",
        "    \"city\": \"Sydney\"\n",
        "}\n",
        "\n",
        "del person [\"age\"]\n",
        "occupation = person.pop(\"occupation\", \"Not found\")\n",
        "\n",
        "print(person)\n",
        "print(occupation)"
      ],
      "metadata": {
        "colab": {
          "base_uri": "https://localhost:8080/"
        },
        "id": "EUJTLoqnpzyu",
        "outputId": "d6bdb1b0-eaef-4c3b-80bd-50be160a3775"
      },
      "execution_count": 7,
      "outputs": [
        {
          "output_type": "stream",
          "name": "stdout",
          "text": [
            "{'name': 'Alex', 'city': 'Sydney'}\n",
            "Not found\n"
          ]
        }
      ]
    },
    {
      "cell_type": "code",
      "source": [
        "person = {\n",
        "    \"name\": \"Alex\",\n",
        "    \"age\": 30,\n",
        "    \"city\": \"Sydney\"\n",
        "}\n",
        "\n",
        "for key in person:\n",
        "    print(key)\n",
        "\n",
        "    for key,  value in person.items():\n",
        "        print(f\"{key}, {value}\")"
      ],
      "metadata": {
        "colab": {
          "base_uri": "https://localhost:8080/"
        },
        "id": "Bt2Gf9Vgq72f",
        "outputId": "7841945b-a31e-4b64-c4db-dbaea7f1cbe5"
      },
      "execution_count": 9,
      "outputs": [
        {
          "output_type": "stream",
          "name": "stdout",
          "text": [
            "name\n",
            "name, Alex\n",
            "age, 30\n",
            "city, Sydney\n",
            "age\n",
            "name, Alex\n",
            "age, 30\n",
            "city, Sydney\n",
            "city\n",
            "name, Alex\n",
            "age, 30\n",
            "city, Sydney\n"
          ]
        }
      ]
    }
  ]
}